{
  "nbformat": 4,
  "nbformat_minor": 0,
  "metadata": {
    "colab": {
      "provenance": []
    },
    "kernelspec": {
      "name": "python3",
      "display_name": "Python 3"
    },
    "language_info": {
      "name": "python"
    }
  },
  "cells": [
    {
      "cell_type": "markdown",
      "source": [
        "## Using RNNs to classify sentiment on IMDB data\n",
        "\n",
        "I will train three types of RNNs:  \"vanilla\" RNN, LSTM and GRU to predict the sentiment on IMDB reviews.  \n",
        "\n",
        "Keras provides a convenient interface to load the data and immediately encode the words into integers (based on the most common words).\n",
        "This will save you a lot of the drudgery that is usually involved when working with raw text.\n",
        "\n",
        "The IMDB is  data consists of 25000 training sequences and 25000 test sequences.\n",
        "The outcome is binary (positive/negative) and both outcomes are equally represented in both the training and the test set.\n",
        "\n"
      ],
      "metadata": {
        "id": "BE5uo9_q3YDD"
      }
    },
    {
      "cell_type": "code",
      "execution_count": null,
      "metadata": {
        "id": "GoBi5pQf3AyV"
      },
      "outputs": [],
      "source": [
        "from keras.datasets import imdb\n",
        "from keras.preprocessing import sequence\n",
        "\n",
        "\n",
        "(X_train, y_train), (X_test, y_test) = imdb.load_data(num_words = 2000)"
      ]
    },
    {
      "cell_type": "markdown",
      "source": [
        "1- Use the `imdb.load_data()` to load in the data\n",
        "\n",
        "2- Specify the maximum length of a sequence to 30 words and the pick the 2000 most common words."
      ],
      "metadata": {
        "id": "dAseHpYa3g44"
      }
    },
    {
      "cell_type": "code",
      "source": [
        "print(\"Number of Sequence in training set:\", X_train.shape[0])\n",
        "print(\"Number of Sequence in testing set:\", X_test.shape[0])"
      ],
      "metadata": {
        "colab": {
          "base_uri": "https://localhost:8080/"
        },
        "id": "ZJqCXASU3SIC",
        "outputId": "8c2e1992-1b8d-4728-eda9-3e4ed5a2b644"
      },
      "execution_count": null,
      "outputs": [
        {
          "output_type": "stream",
          "name": "stdout",
          "text": [
            "Number of Sequence in training set: 25000\n",
            "Number of Sequence in testing set: 25000\n"
          ]
        }
      ]
    },
    {
      "cell_type": "markdown",
      "source": [
        "3- Check that the number of sequences in train and test datasets are equal (default split):\n",
        "    \n",
        "Expected output:\n",
        "- `x_train = 25000 train sequences`\n",
        "\n",
        "- `x_test = 25000 test sequences`"
      ],
      "metadata": {
        "id": "tVPgWWho3kZ2"
      }
    },
    {
      "cell_type": "code",
      "source": [
        "max_length = 30\n",
        "X_train = sequence.pad_sequences(X_train, maxlen = max_length)\n",
        "X_test = sequence.pad_sequences(X_test, maxlen = max_length)"
      ],
      "metadata": {
        "id": "NRlPP-Ul3k2m"
      },
      "execution_count": null,
      "outputs": []
    },
    {
      "cell_type": "markdown",
      "source": [
        "4- Pad (or truncate) the sequences so that they are of the maximum length"
      ],
      "metadata": {
        "id": "3sgA1GWc3qq_"
      }
    },
    {
      "cell_type": "code",
      "source": [
        "print(\"Shape of Sequence in training set:\", X_train.shape)\n",
        "print(\"Shape of Sequence in testing set:\", X_test.shape)"
      ],
      "metadata": {
        "colab": {
          "base_uri": "https://localhost:8080/"
        },
        "id": "Zc7e8FFq3viZ",
        "outputId": "ce341c6a-589a-4165-a34f-abcd598dcc43"
      },
      "execution_count": null,
      "outputs": [
        {
          "output_type": "stream",
          "name": "stdout",
          "text": [
            "Shape of Sequence in training set: (25000, 30)\n",
            "Shape of Sequence in testing set: (25000, 30)\n"
          ]
        }
      ]
    },
    {
      "cell_type": "markdown",
      "source": [
        "5- After padding or truncating, check the dimensionality of x_train and x_test.\n",
        "\n",
        "Expected output:\n",
        "- `x_train shape: (25000, 30)`\n",
        "- `x_test shape: (25000, 30)`"
      ],
      "metadata": {
        "id": "2cAZYoZV3wrb"
      }
    },
    {
      "cell_type": "markdown",
      "source": [
        "## Keras layers for (Vanilla) RNNs\n",
        "\n",
        "In this step, you will not use pre-trained word vectors, Instead you will learn an embedding as part of the  the Vanilla) RNNs network  Neural Network.\n",
        "\n",
        "In the Keras API documentation, the Embedding Layer and the SimpleRNN Layer have the following syntax:\n",
        "\n",
        "### Embedding Layer\n",
        "`keras.layers.embeddings.Embedding(input_dim, output_dim, embeddings_initializer='uniform', embeddings_regularizer=None, activity_regularizer=None, embeddings_constraint=None, mask_zero=False, input_length=None)`\n",
        "\n",
        "- This layer maps each integer into a distinct (dense) word vector of length `output_dim`.\n",
        "- Can think of this as learning a word vector embedding \"on the fly\" rather than using an existing mapping (like GloVe)\n",
        "- The `input_dim` should be the size of the vocabulary.\n",
        "- The `input_length` specifies the length of the sequences that the network expects.\n",
        "\n",
        "### SimpleRNN Layer\n",
        "`keras.layers.recurrent.SimpleRNN(units, activation='tanh', use_bias=True, kernel_initializer='glorot_uniform', recurrent_initializer='orthogonal', bias_initializer='zeros', kernel_regularizer=None, recurrent_regularizer=None, bias_regularizer=None, activity_regularizer=None, kernel_constraint=None, recurrent_constraint=None, bias_constraint=None, dropout=0.0, recurrent_dropout=0.0)`\n",
        "\n",
        "- This is the basic RNN, where the output is also fed back as the \"hidden state\" to the next iteration.\n",
        "- The parameter `units` gives the dimensionality of the output (and therefore the hidden state).  Note that typically there will be another layer after the RNN mapping the (RNN) output to the network output.  So we should think of this value as the desired dimensionality of the hidden state and not necessarily the desired output of the network.\n",
        "- Recall that there are two sets of weights, one for the \"recurrent\" phase and the other for the \"kernel\" phase.  These can be configured separately in terms of their initialization, regularization, etc.\n"
      ],
      "metadata": {
        "id": "i5gWOgsW31_L"
      }
    },
    {
      "cell_type": "code",
      "source": [
        "import tensorflow as tf\n",
        "from keras.models import Sequential\n",
        "from keras.layers import SimpleRNN, Embedding, Dense\n",
        "\n",
        "model = Sequential()\n",
        "\n",
        "model.add(Embedding(input_dim = 2000, output_dim = 50, input_length = 30))\n",
        "model.add(SimpleRNN(5, kernel_initializer = tf.keras.initializers.RandomNormal(stddev = 0.001)))\n",
        "model.add(Dense(1, activation='sigmoid'))\n"
      ],
      "metadata": {
        "id": "IG1PZPEe30rR"
      },
      "execution_count": null,
      "outputs": []
    },
    {
      "cell_type": "markdown",
      "source": [
        "7- How many parameters have the embedding layer?"
      ],
      "metadata": {
        "id": "H_QgLgYG6wME"
      }
    },
    {
      "cell_type": "code",
      "source": [
        "model.summary()"
      ],
      "metadata": {
        "colab": {
          "base_uri": "https://localhost:8080/"
        },
        "id": "mhh9FNEY6u8o",
        "outputId": "a6c60cfa-7617-4749-83a8-ddcd83813574"
      },
      "execution_count": null,
      "outputs": [
        {
          "output_type": "stream",
          "name": "stdout",
          "text": [
            "Model: \"sequential_19\"\n",
            "_________________________________________________________________\n",
            " Layer (type)                Output Shape              Param #   \n",
            "=================================================================\n",
            " embedding_14 (Embedding)    (None, 30, 50)            100000    \n",
            "                                                                 \n",
            " simple_rnn_19 (SimpleRNN)   (None, 5)                 280       \n",
            "                                                                 \n",
            " dense_14 (Dense)            (None, 1)                 6         \n",
            "                                                                 \n",
            "=================================================================\n",
            "Total params: 100286 (391.74 KB)\n",
            "Trainable params: 100286 (391.74 KB)\n",
            "Non-trainable params: 0 (0.00 Byte)\n",
            "_________________________________________________________________\n"
          ]
        }
      ]
    },
    {
      "cell_type": "markdown",
      "source": [
        "8- Train the network with the RMSprop with learning rate of .0001 and epochs=10."
      ],
      "metadata": {
        "id": "4V5MfNO4606H"
      }
    },
    {
      "cell_type": "code",
      "source": [
        "model.compile(optimizer = tf.keras.optimizers.RMSprop(learning_rate = 0.0001),loss = 'binary_crossentropy',metrics = ['accuracy'])\n",
        "result = model.fit(X_train, y_train, epochs = 10, validation_data = (X_test, y_test))"
      ],
      "metadata": {
        "colab": {
          "base_uri": "https://localhost:8080/"
        },
        "id": "NE0jsJKB6224",
        "outputId": "c65fb5c1-7634-4620-f3c2-23f0af8d14d8"
      },
      "execution_count": null,
      "outputs": [
        {
          "output_type": "stream",
          "name": "stdout",
          "text": [
            "Epoch 1/10\n",
            "782/782 [==============================] - 11s 13ms/step - loss: 0.4287 - accuracy: 0.8109 - val_loss: 0.4816 - val_accuracy: 0.7674\n",
            "Epoch 2/10\n",
            "782/782 [==============================] - 9s 12ms/step - loss: 0.4233 - accuracy: 0.8144 - val_loss: 0.4822 - val_accuracy: 0.7699\n",
            "Epoch 3/10\n",
            "782/782 [==============================] - 10s 13ms/step - loss: 0.4185 - accuracy: 0.8161 - val_loss: 0.4806 - val_accuracy: 0.7698\n",
            "Epoch 4/10\n",
            "782/782 [==============================] - 13s 17ms/step - loss: 0.4148 - accuracy: 0.8202 - val_loss: 0.4800 - val_accuracy: 0.7712\n",
            "Epoch 5/10\n",
            "782/782 [==============================] - 17s 22ms/step - loss: 0.4117 - accuracy: 0.8210 - val_loss: 0.4801 - val_accuracy: 0.7726\n",
            "Epoch 6/10\n",
            "782/782 [==============================] - 9s 12ms/step - loss: 0.4086 - accuracy: 0.8232 - val_loss: 0.4809 - val_accuracy: 0.7717\n",
            "Epoch 7/10\n",
            "782/782 [==============================] - 10s 13ms/step - loss: 0.4059 - accuracy: 0.8250 - val_loss: 0.4875 - val_accuracy: 0.7683\n",
            "Epoch 8/10\n",
            "782/782 [==============================] - 10s 13ms/step - loss: 0.4035 - accuracy: 0.8262 - val_loss: 0.4840 - val_accuracy: 0.7706\n",
            "Epoch 9/10\n",
            "782/782 [==============================] - 12s 16ms/step - loss: 0.4010 - accuracy: 0.8267 - val_loss: 0.4887 - val_accuracy: 0.7702\n",
            "Epoch 10/10\n",
            "782/782 [==============================] - 10s 12ms/step - loss: 0.3991 - accuracy: 0.8285 - val_loss: 0.4862 - val_accuracy: 0.7720\n"
          ]
        }
      ]
    },
    {
      "cell_type": "markdown",
      "source": [
        "9- PLot the loss and accuracy metrics during the training and interpret the result."
      ],
      "metadata": {
        "id": "Jrvws-R-7gFV"
      }
    },
    {
      "cell_type": "code",
      "source": [
        "import matplotlib.pyplot as plt\n",
        "\n",
        "plt.figure(figsize=(12, 6))\n",
        "\n",
        "plt.subplot(1, 2, 1)\n",
        "plt.xlabel('Epoch')\n",
        "plt.ylabel('Loss')\n",
        "plt.plot(result.history['loss'], label='Training Loss')\n",
        "plt.plot(result.history['val_loss'], label='Validation Loss')\n",
        "plt.title('Training and Validation Loss')\n",
        "\n",
        "plt.legend()\n",
        "\n",
        "plt.subplot(1, 2, 2)\n",
        "plt.xlabel('Epoch')\n",
        "plt.ylabel('Accuracy')\n",
        "plt.plot(result.history['accuracy'], label='Training Accuracy')\n",
        "plt.plot(result.history['val_accuracy'], label='Validation Accuracy')\n",
        "plt.title('Training and Validation Accuracy')\n",
        "\n",
        "plt.legend()\n",
        "\n",
        "\n",
        "plt.tight_layout()\n",
        "plt.show()"
      ],
      "metadata": {
        "colab": {
          "base_uri": "https://localhost:8080/",
          "height": 607
        },
        "id": "c0pHIZyI7V6Y",
        "outputId": "cbd62d29-f60d-427f-d206-a53cd5f7063e"
      },
      "execution_count": null,
      "outputs": [
        {
          "output_type": "display_data",
          "data": {
            "text/plain": [
              "<Figure size 1200x600 with 2 Axes>"
            ],
            "image/png": "[encoded data removed]"
          },
          "metadata": {}
        }
      ]
    },
    {
      "cell_type": "markdown",
      "source": [
        "10- Check the accuracy and the loss of your models on the test dataset."
      ],
      "metadata": {
        "id": "-40mFwF1SgTA"
      }
    },
    {
      "cell_type": "code",
      "source": [
        "test_loss, test_accuracy = model.evaluate(X_test, y_test)\n",
        "\n",
        "print(\"Test Loss:\", test_loss)\n",
        "print(\"Test Accuracy:\", test_accuracy)"
      ],
      "metadata": {
        "colab": {
          "base_uri": "https://localhost:8080/"
        },
        "id": "Hh2CsVa7Sh1q",
        "outputId": "215c5302-fd93-436a-870d-17a938c13587"
      },
      "execution_count": null,
      "outputs": [
        {
          "output_type": "stream",
          "name": "stdout",
          "text": [
            "782/782 [==============================] - 3s 4ms/step - loss: 0.4862 - accuracy: 0.7720\n",
            "Test Loss: 0.48615333437919617\n",
            "Test Accuracy: 0.7720400094985962\n"
          ]
        }
      ]
    },
    {
      "cell_type": "markdown",
      "source": [
        "## Tuning The Vanilla RNN Network"
      ],
      "metadata": {
        "id": "Hl-Cz8G1Sx_J"
      }
    },
    {
      "cell_type": "markdown",
      "source": [
        "11- Prepare the data to use sequences of length 80 rather than length 30 and retrain your model.  Did it improve the performance?\n",
        "\n",
        "12- Try different values of the  maximum length of a sequence (\"max_features\").  Can you improve the performance?\n",
        "\n",
        "13- Try smaller and larger sizes of the RNN hidden dimension.  How does it affect the model performance?  How does it affect the run time?"
      ],
      "metadata": {
        "id": "D_o03_XpSz0o"
      }
    },
    {
      "cell_type": "code",
      "source": [
        "sequence_length = 80\n",
        "X_train = sequence.pad_sequences(X_train, maxlen=sequence_length)\n",
        "X_test = sequence.pad_sequences(X_test, maxlen=sequence_length)"
      ],
      "metadata": {
        "id": "lGTjQHT_S2Lx"
      },
      "execution_count": null,
      "outputs": []
    },
    {
      "cell_type": "code",
      "source": [
        "model = Sequential()\n",
        "model.add(Embedding(input_dim = 2000, output_dim = 50, input_length = sequence_length))\n",
        "model.add(SimpleRNN(5, kernel_initializer = tf.keras.initializers.RandomNormal(stddev = 0.001)))\n",
        "model.add(Dense(1, activation = 'sigmoid'))"
      ],
      "metadata": {
        "id": "Dz7Z76i1jPLb"
      },
      "execution_count": null,
      "outputs": []
    },
    {
      "cell_type": "code",
      "source": [
        "model.compile(optimizer=tf.keras.optimizers.RMSprop(learning_rate=0.0001),loss='binary_crossentropy',metrics=['accuracy'])\n",
        "sequence_80_result = model.fit(X_train, y_train, epochs=10, validation_split=0.2)"
      ],
      "metadata": {
        "colab": {
          "base_uri": "https://localhost:8080/"
        },
        "id": "Ekf8hcEXjqwL",
        "outputId": "c1dfd56f-ceef-4a79-d8b1-36eb31c5f54c"
      },
      "execution_count": null,
      "outputs": [
        {
          "output_type": "stream",
          "name": "stdout",
          "text": [
            "Epoch 1/10\n",
            "625/625 [==============================] - 18s 25ms/step - loss: 0.6931 - accuracy: 0.4958 - val_loss: 0.6931 - val_accuracy: 0.4990\n",
            "Epoch 2/10\n",
            "625/625 [==============================] - 14s 22ms/step - loss: 0.6928 - accuracy: 0.5224 - val_loss: 0.6931 - val_accuracy: 0.4988\n",
            "Epoch 3/10\n",
            "625/625 [==============================] - 14s 22ms/step - loss: 0.6918 - accuracy: 0.5312 - val_loss: 0.6931 - val_accuracy: 0.5042\n",
            "Epoch 4/10\n",
            "625/625 [==============================] - 12s 19ms/step - loss: 0.6891 - accuracy: 0.5406 - val_loss: 0.6938 - val_accuracy: 0.5036\n",
            "Epoch 5/10\n",
            "625/625 [==============================] - 13s 20ms/step - loss: 0.6840 - accuracy: 0.5591 - val_loss: 0.6982 - val_accuracy: 0.5170\n",
            "Epoch 6/10\n",
            "625/625 [==============================] - 13s 21ms/step - loss: 0.6769 - accuracy: 0.5810 - val_loss: 0.7009 - val_accuracy: 0.5112\n",
            "Epoch 7/10\n",
            "625/625 [==============================] - 13s 20ms/step - loss: 0.6699 - accuracy: 0.5985 - val_loss: 0.7070 - val_accuracy: 0.5052\n",
            "Epoch 8/10\n",
            "625/625 [==============================] - 13s 21ms/step - loss: 0.6623 - accuracy: 0.6120 - val_loss: 0.7080 - val_accuracy: 0.4972\n",
            "Epoch 9/10\n",
            "625/625 [==============================] - 13s 20ms/step - loss: 0.6547 - accuracy: 0.6253 - val_loss: 0.7140 - val_accuracy: 0.5000\n",
            "Epoch 10/10\n",
            "625/625 [==============================] - 15s 24ms/step - loss: 0.6478 - accuracy: 0.6385 - val_loss: 0.7231 - val_accuracy: 0.4962\n"
          ]
        }
      ]
    },
    {
      "cell_type": "code",
      "source": [
        "test_loss, test_accuracy = model.evaluate(X_test, y_test)\n",
        "\n",
        "print(\"Test Loss (Seq Length 80):\", test_loss)\n",
        "print(\"Test Accuracy (Seq Length 80):\", test_accuracy)"
      ],
      "metadata": {
        "colab": {
          "base_uri": "https://localhost:8080/"
        },
        "id": "2sCinPEVj9bN",
        "outputId": "66de76db-dee5-4fed-c13d-4e6b85ee7d67"
      },
      "execution_count": null,
      "outputs": [
        {
          "output_type": "stream",
          "name": "stdout",
          "text": [
            "782/782 [==============================] - 6s 8ms/step - loss: 0.7183 - accuracy: 0.5093\n",
            "Test Loss (Seq Length 80): 0.7183306813240051\n",
            "Test Accuracy (Seq Length 80): 0.5093200206756592\n"
          ]
        }
      ]
    },
    {
      "cell_type": "markdown",
      "source": [
        "Compared to sequence length is 30, sequence length with 80 is much worse than it.So it did not improve the performance"
      ],
      "metadata": {
        "id": "0jk8Y6n7kkFy"
      }
    },
    {
      "cell_type": "code",
      "source": [
        "\n",
        "(X_train, y_train), (X_test, y_test) = imdb.load_data(num_words = 5000)\n",
        "\n",
        "\n",
        "sequence_length = 80\n",
        "X_train_ = sequence.pad_sequences(X_train, maxlen=sequence_length)\n",
        "X_test = sequence.pad_sequences(X_test, maxlen=sequence_length)\n",
        "\n",
        "\n",
        "\n",
        "model = Sequential()\n",
        "model.add(Embedding(input_dim = 5000, output_dim = 50, input_length = sequence_length))\n",
        "model.add(SimpleRNN(5, kernel_initializer = tf.keras.initializers.RandomNormal(stddev = 0.001)))\n",
        "model.add(Dense(1, activation = 'sigmoid'))\n",
        "\n",
        "model.compile(optimizer = tf.keras.optimizers.RMSprop(learning_rate = 0.0001),loss = 'binary_crossentropy',metrics = ['accuracy'])\n",
        "\n",
        "num_words_5000_result = model.fit(X_train, y_train, epochs = 10, validation_split = 0.2)\n",
        "\n",
        "\n",
        "test_loss, test_accuracy = model.evaluate(X_test, y_test)\n",
        "\n",
        "print(f\"Test Loss (vocab_size={5000}): {test_loss}\")\n",
        "print(f\"Test Accuracy (vocab_size={5000}): {test_accuracy}\")"
      ],
      "metadata": {
        "colab": {
          "base_uri": "https://localhost:8080/"
        },
        "id": "wzPVDwPhksIE",
        "outputId": "5bed9d8e-8312-4270-db1b-f0756fd713c5"
      },
      "execution_count": null,
      "outputs": [
        {
          "output_type": "stream",
          "name": "stdout",
          "text": [
            "Epoch 1/10\n",
            "625/625 [==============================] - 17s 25ms/step - loss: 0.6799 - accuracy: 0.5777 - val_loss: 0.6565 - val_accuracy: 0.6490\n",
            "Epoch 2/10\n",
            "625/625 [==============================] - 14s 22ms/step - loss: 0.6438 - accuracy: 0.6707 - val_loss: 0.6346 - val_accuracy: 0.6882\n",
            "Epoch 3/10\n",
            "625/625 [==============================] - 17s 27ms/step - loss: 0.6188 - accuracy: 0.7136 - val_loss: 0.6202 - val_accuracy: 0.6996\n",
            "Epoch 4/10\n",
            "625/625 [==============================] - 27s 43ms/step - loss: 0.5960 - accuracy: 0.7406 - val_loss: 0.5953 - val_accuracy: 0.7326\n",
            "Epoch 5/10\n",
            "625/625 [==============================] - 25s 40ms/step - loss: 0.5740 - accuracy: 0.7613 - val_loss: 0.5856 - val_accuracy: 0.7302\n",
            "Epoch 6/10\n",
            "625/625 [==============================] - 15s 25ms/step - loss: 0.5536 - accuracy: 0.7755 - val_loss: 0.5671 - val_accuracy: 0.7504\n",
            "Epoch 7/10\n",
            "625/625 [==============================] - 13s 21ms/step - loss: 0.5310 - accuracy: 0.7919 - val_loss: 0.5529 - val_accuracy: 0.7554\n",
            "Epoch 8/10\n",
            "625/625 [==============================] - 13s 21ms/step - loss: 0.5099 - accuracy: 0.8019 - val_loss: 0.5356 - val_accuracy: 0.7590\n",
            "Epoch 9/10\n",
            "625/625 [==============================] - 13s 21ms/step - loss: 0.4874 - accuracy: 0.8132 - val_loss: 0.5178 - val_accuracy: 0.7688\n",
            "Epoch 10/10\n",
            "625/625 [==============================] - 14s 22ms/step - loss: 0.4646 - accuracy: 0.8238 - val_loss: 0.4956 - val_accuracy: 0.7820\n",
            "782/782 [==============================] - 5s 6ms/step - loss: 0.5063 - accuracy: 0.7696\n",
            "Test Loss (vocab_size=5000): 0.5063399076461792\n",
            "Test Accuracy (vocab_size=5000): 0.7696400284767151\n"
          ]
        }
      ]
    },
    {
      "cell_type": "markdown",
      "source": [
        "Seems like if you increase the num_words to 5000, the performance did not get better."
      ],
      "metadata": {
        "id": "r9X8Urlkns-a"
      }
    },
    {
      "cell_type": "code",
      "source": [
        "vocab_size = 5000\n",
        "(X_train, y_train), (X_test, y_test) = imdb.load_data(num_words=vocab_size)\n",
        "\n",
        "\n",
        "sequence_length = 80\n",
        "X_train_padded = sequence.pad_sequences(X_train, maxlen = sequence_length)\n",
        "X_test_padded = sequence.pad_sequences(X_test, maxlen = sequence_length)\n",
        "\n",
        "hidden_dimensions = [2, 10, 20]\n",
        "\n",
        "for hidden_dim in hidden_dimensions:\n",
        "\n",
        "\n",
        "    model = Sequential()\n",
        "    model.add(Embedding(input_dim = vocab_size, output_dim = 50, input_length = sequence_length))\n",
        "    model.add(SimpleRNN(hidden_dim, kernel_initializer = tf.keras.initializers.RandomNormal(stddev = 0.001)))\n",
        "    model.add(Dense(1, activation = 'sigmoid'))\n",
        "\n",
        "    model.compile(optimizer=tf.keras.optimizers.RMSprop(learning_rate = 0.0001),loss='binary_crossentropy',metrics=['accuracy'])\n",
        "\n",
        "    history = model.fit(X_train_padded, y_train, epochs=10, validation_split = 0.2)\n",
        "\n",
        "    test_loss, test_accuracy = model.evaluate(X_test_padded, y_test)\n",
        "\n",
        "    print(f\"Test Loss (Hidden Dim={hidden_dim}): {test_loss}\")\n",
        "    print(f\"Test Accuracy (Hidden Dim={hidden_dim}): {test_accuracy}\")"
      ],
      "metadata": {
        "colab": {
          "base_uri": "https://localhost:8080/"
        },
        "id": "xSFMX6WRmysJ",
        "outputId": "8e7d49e0-8d44-4145-f0f4-83175f60460b"
      },
      "execution_count": null,
      "outputs": [
        {
          "output_type": "stream",
          "name": "stdout",
          "text": [
            "Epoch 1/10\n",
            "625/625 [==============================] - 15s 22ms/step - loss: 0.6931 - accuracy: 0.5100 - val_loss: 0.6931 - val_accuracy: 0.5024\n",
            "Epoch 2/10\n",
            "625/625 [==============================] - 13s 21ms/step - loss: 0.6923 - accuracy: 0.5255 - val_loss: 0.6929 - val_accuracy: 0.5066\n",
            "Epoch 3/10\n",
            "625/625 [==============================] - 13s 21ms/step - loss: 0.6899 - accuracy: 0.5370 - val_loss: 0.6930 - val_accuracy: 0.5240\n",
            "Epoch 4/10\n",
            "625/625 [==============================] - 14s 22ms/step - loss: 0.6839 - accuracy: 0.5610 - val_loss: 0.6947 - val_accuracy: 0.5212\n",
            "Epoch 5/10\n",
            "625/625 [==============================] - 13s 22ms/step - loss: 0.6735 - accuracy: 0.5899 - val_loss: 0.6989 - val_accuracy: 0.5174\n",
            "Epoch 6/10\n",
            "625/625 [==============================] - 14s 22ms/step - loss: 0.6603 - accuracy: 0.6189 - val_loss: 0.7033 - val_accuracy: 0.5222\n",
            "Epoch 7/10\n",
            "625/625 [==============================] - 14s 22ms/step - loss: 0.6473 - accuracy: 0.6434 - val_loss: 0.7063 - val_accuracy: 0.5234\n",
            "Epoch 8/10\n",
            "625/625 [==============================] - 14s 22ms/step - loss: 0.6346 - accuracy: 0.6611 - val_loss: 0.7100 - val_accuracy: 0.5204\n",
            "Epoch 9/10\n",
            "625/625 [==============================] - 14s 22ms/step - loss: 0.6239 - accuracy: 0.6753 - val_loss: 0.7147 - val_accuracy: 0.5176\n",
            "Epoch 10/10\n",
            "625/625 [==============================] - 13s 21ms/step - loss: 0.6144 - accuracy: 0.6858 - val_loss: 0.7187 - val_accuracy: 0.5184\n",
            "782/782 [==============================] - 6s 7ms/step - loss: 0.7226 - accuracy: 0.5118\n",
            "Test Loss (Hidden Dim=2): 0.7225929498672485\n",
            "Test Accuracy (Hidden Dim=2): 0.5117599964141846\n",
            "Epoch 1/10\n",
            "625/625 [==============================] - 15s 23ms/step - loss: 0.6842 - accuracy: 0.5516 - val_loss: 0.6674 - val_accuracy: 0.6110\n",
            "Epoch 2/10\n",
            "625/625 [==============================] - 14s 22ms/step - loss: 0.6443 - accuracy: 0.6557 - val_loss: 0.6283 - val_accuracy: 0.6780\n",
            "Epoch 3/10\n",
            "625/625 [==============================] - 14s 22ms/step - loss: 0.6026 - accuracy: 0.7131 - val_loss: 0.5982 - val_accuracy: 0.7080\n",
            "Epoch 4/10\n",
            "625/625 [==============================] - 14s 22ms/step - loss: 0.5645 - accuracy: 0.7481 - val_loss: 0.5713 - val_accuracy: 0.7260\n",
            "Epoch 5/10\n",
            "625/625 [==============================] - 14s 22ms/step - loss: 0.5276 - accuracy: 0.7760 - val_loss: 0.5408 - val_accuracy: 0.7508\n",
            "Epoch 6/10\n",
            "625/625 [==============================] - 14s 22ms/step - loss: 0.4935 - accuracy: 0.7979 - val_loss: 0.5137 - val_accuracy: 0.7646\n",
            "Epoch 7/10\n",
            "625/625 [==============================] - 13s 21ms/step - loss: 0.4597 - accuracy: 0.8162 - val_loss: 0.4860 - val_accuracy: 0.7738\n",
            "Epoch 8/10\n",
            "625/625 [==============================] - 13s 21ms/step - loss: 0.4258 - accuracy: 0.8313 - val_loss: 0.4581 - val_accuracy: 0.7916\n",
            "Epoch 9/10\n",
            "625/625 [==============================] - 14s 22ms/step - loss: 0.3938 - accuracy: 0.8444 - val_loss: 0.4342 - val_accuracy: 0.8084\n",
            "Epoch 10/10\n",
            "625/625 [==============================] - 14s 22ms/step - loss: 0.3639 - accuracy: 0.8581 - val_loss: 0.4090 - val_accuracy: 0.8200\n",
            "782/782 [==============================] - 5s 6ms/step - loss: 0.4182 - accuracy: 0.8114\n",
            "Test Loss (Hidden Dim=10): 0.4182376563549042\n",
            "Test Accuracy (Hidden Dim=10): 0.8113600015640259\n",
            "Epoch 1/10\n",
            "625/625 [==============================] - 15s 23ms/step - loss: 0.6930 - accuracy: 0.5078 - val_loss: 0.6917 - val_accuracy: 0.5562\n",
            "Epoch 2/10\n",
            "625/625 [==============================] - 14s 22ms/step - loss: 0.6619 - accuracy: 0.6076 - val_loss: 0.6323 - val_accuracy: 0.6550\n",
            "Epoch 3/10\n",
            "625/625 [==============================] - 14s 22ms/step - loss: 0.5777 - accuracy: 0.7175 - val_loss: 0.5543 - val_accuracy: 0.7256\n",
            "Epoch 4/10\n",
            "625/625 [==============================] - 14s 23ms/step - loss: 0.4870 - accuracy: 0.7830 - val_loss: 0.4947 - val_accuracy: 0.7658\n",
            "Epoch 5/10\n",
            "625/625 [==============================] - 14s 23ms/step - loss: 0.4171 - accuracy: 0.8184 - val_loss: 0.4435 - val_accuracy: 0.7978\n",
            "Epoch 6/10\n",
            "625/625 [==============================] - 14s 22ms/step - loss: 0.3758 - accuracy: 0.8419 - val_loss: 0.4169 - val_accuracy: 0.8120\n",
            "Epoch 7/10\n",
            "625/625 [==============================] - 14s 22ms/step - loss: 0.3470 - accuracy: 0.8567 - val_loss: 0.4121 - val_accuracy: 0.8180\n",
            "Epoch 8/10\n",
            "625/625 [==============================] - 13s 21ms/step - loss: 0.3272 - accuracy: 0.8654 - val_loss: 0.3867 - val_accuracy: 0.8252\n",
            "Epoch 9/10\n",
            "625/625 [==============================] - 14s 22ms/step - loss: 0.3124 - accuracy: 0.8720 - val_loss: 0.3938 - val_accuracy: 0.8214\n",
            "Epoch 10/10\n",
            "625/625 [==============================] - 14s 22ms/step - loss: 0.3007 - accuracy: 0.8779 - val_loss: 0.3779 - val_accuracy: 0.8304\n",
            "782/782 [==============================] - 6s 7ms/step - loss: 0.3795 - accuracy: 0.8291\n",
            "Test Loss (Hidden Dim=20): 0.37945500016212463\n",
            "Test Accuracy (Hidden Dim=20): 0.8291199803352356\n"
          ]
        }
      ]
    },
    {
      "cell_type": "markdown",
      "source": [
        "Seems like the higher hidden dimension we have, the higher accuracy we got from it."
      ],
      "metadata": {
        "id": "HYXfzDcirTwk"
      }
    },
    {
      "cell_type": "markdown",
      "source": [
        "## Train LSTM and GRU networks"
      ],
      "metadata": {
        "id": "LyGMAUU5uUkv"
      }
    },
    {
      "cell_type": "markdown",
      "source": [
        "14- Build LSTM and GRU networks and compare their performance (accuracy and execution time) with the SimpleRNN. What is your conclusion?"
      ],
      "metadata": {
        "id": "MiJkKVPluUsJ"
      }
    },
    {
      "cell_type": "code",
      "source": [
        "import time\n",
        "from tensorflow.keras.layers import LSTM, GRU\n",
        "\n",
        "recurrent_layers = {\n",
        "    'SimpleRNN': SimpleRNN(5, kernel_initializer=tf.keras.initializers.RandomNormal(stddev=0.001)),\n",
        "    'LSTM': LSTM(5, kernel_initializer=tf.keras.initializers.RandomNormal(stddev=0.001)),\n",
        "    'GRU': GRU(5, kernel_initializer=tf.keras.initializers.RandomNormal(stddev=0.001))\n",
        "}\n",
        "\n",
        "\n",
        "for layer_name, layer in recurrent_layers.items():\n",
        "    print(f\"\\nTraining and evaluating {layer_name} model\")\n",
        "\n",
        "    model = Sequential()\n",
        "    model.add(Embedding(input_dim = vocab_size, output_dim = 50, input_length = sequence_length))\n",
        "    model.add(layer)\n",
        "    model.add(Dense(1, activation='sigmoid'))\n",
        "\n",
        "    model.compile(optimizer = tf.keras.optimizers.RMSprop(learning_rate = 0.0001),loss = 'binary_crossentropy',metrics = ['accuracy'])\n",
        "\n",
        "    start_time = time.time()\n",
        "    history = model.fit(X_train_padded, y_train, epochs = 10, validation_split = 0.2)\n",
        "    end_time = time.time()\n",
        "\n",
        "    # Evaluate the model on the test set\n",
        "    test_loss, test_accuracy = model.evaluate(X_test_padded, y_test)\n",
        "\n",
        "    print(f\"Test Loss ({layer_name}): {test_loss}\")\n",
        "    print(f\"Test Accuracy ({layer_name}): {test_accuracy}\")\n",
        "    print(f\"Execution Time ({layer_name}): {end_time - start_time} seconds\\n\")"
      ],
      "metadata": {
        "colab": {
          "base_uri": "https://localhost:8080/"
        },
        "id": "DU4SXklNmIT8",
        "outputId": "78219824-71a0-4509-dc4b-d1de1e8eb51c"
      },
      "execution_count": null,
      "outputs": [
        {
          "output_type": "stream",
          "name": "stdout",
          "text": [
            "\n",
            "Training and evaluating SimpleRNN model\n",
            "Epoch 1/10\n",
            "625/625 [==============================] - 24s 34ms/step - loss: 0.6931 - accuracy: 0.5048 - val_loss: 0.6927 - val_accuracy: 0.5272\n",
            "Epoch 2/10\n",
            "625/625 [==============================] - 26s 41ms/step - loss: 0.6921 - accuracy: 0.5244 - val_loss: 0.6918 - val_accuracy: 0.5278\n",
            "Epoch 3/10\n",
            "625/625 [==============================] - 14s 22ms/step - loss: 0.6894 - accuracy: 0.5400 - val_loss: 0.6907 - val_accuracy: 0.5302\n",
            "Epoch 4/10\n",
            "625/625 [==============================] - 13s 21ms/step - loss: 0.6825 - accuracy: 0.5636 - val_loss: 0.6924 - val_accuracy: 0.5282\n",
            "Epoch 5/10\n",
            "625/625 [==============================] - 14s 22ms/step - loss: 0.6701 - accuracy: 0.5954 - val_loss: 0.6963 - val_accuracy: 0.5276\n",
            "Epoch 6/10\n",
            "625/625 [==============================] - 14s 22ms/step - loss: 0.6537 - accuracy: 0.6231 - val_loss: 0.7022 - val_accuracy: 0.5316\n",
            "Epoch 7/10\n",
            "625/625 [==============================] - 13s 21ms/step - loss: 0.6360 - accuracy: 0.6478 - val_loss: 0.7050 - val_accuracy: 0.5372\n",
            "Epoch 8/10\n",
            "625/625 [==============================] - 13s 21ms/step - loss: 0.6193 - accuracy: 0.6701 - val_loss: 0.7104 - val_accuracy: 0.5372\n",
            "Epoch 9/10\n",
            "625/625 [==============================] - 13s 21ms/step - loss: 0.6042 - accuracy: 0.6864 - val_loss: 0.7142 - val_accuracy: 0.5356\n",
            "Epoch 10/10\n",
            "625/625 [==============================] - 13s 22ms/step - loss: 0.5906 - accuracy: 0.6981 - val_loss: 0.7179 - val_accuracy: 0.5356\n",
            "782/782 [==============================] - 5s 6ms/step - loss: 0.7217 - accuracy: 0.5303\n",
            "Test Loss (SimpleRNN): 0.7216796875\n",
            "Test Accuracy (SimpleRNN): 0.5303199887275696\n",
            "Execution Time (SimpleRNN): 204.573801279068 seconds\n",
            "\n",
            "\n",
            "Training and evaluating LSTM model\n",
            "Epoch 1/10\n",
            "625/625 [==============================] - 23s 31ms/step - loss: 0.6931 - accuracy: 0.5160 - val_loss: 0.6929 - val_accuracy: 0.5122\n",
            "Epoch 2/10\n",
            "625/625 [==============================] - 20s 31ms/step - loss: 0.6924 - accuracy: 0.5674 - val_loss: 0.6918 - val_accuracy: 0.5632\n",
            "Epoch 3/10\n",
            "625/625 [==============================] - 19s 30ms/step - loss: 0.6892 - accuracy: 0.6050 - val_loss: 0.6857 - val_accuracy: 0.6058\n",
            "Epoch 4/10\n",
            "625/625 [==============================] - 21s 33ms/step - loss: 0.6743 - accuracy: 0.6413 - val_loss: 0.6592 - val_accuracy: 0.6492\n",
            "Epoch 5/10\n",
            "625/625 [==============================] - 20s 31ms/step - loss: 0.6174 - accuracy: 0.7012 - val_loss: 0.5671 - val_accuracy: 0.7334\n",
            "Epoch 6/10\n",
            "625/625 [==============================] - 20s 31ms/step - loss: 0.5179 - accuracy: 0.7653 - val_loss: 0.4946 - val_accuracy: 0.7766\n",
            "Epoch 7/10\n",
            "625/625 [==============================] - 18s 29ms/step - loss: 0.4603 - accuracy: 0.7965 - val_loss: 0.4593 - val_accuracy: 0.7932\n",
            "Epoch 8/10\n",
            "625/625 [==============================] - 19s 30ms/step - loss: 0.4206 - accuracy: 0.8228 - val_loss: 0.4352 - val_accuracy: 0.8080\n",
            "Epoch 9/10\n",
            "625/625 [==============================] - 21s 33ms/step - loss: 0.3912 - accuracy: 0.8399 - val_loss: 0.4189 - val_accuracy: 0.8162\n",
            "Epoch 10/10\n",
            "625/625 [==============================] - 20s 32ms/step - loss: 0.3688 - accuracy: 0.8513 - val_loss: 0.4071 - val_accuracy: 0.8178\n",
            "782/782 [==============================] - 7s 9ms/step - loss: 0.4027 - accuracy: 0.8256\n",
            "Test Loss (LSTM): 0.40270429849624634\n",
            "Test Accuracy (LSTM): 0.8256000280380249\n",
            "Execution Time (LSTM): 204.70856189727783 seconds\n",
            "\n",
            "\n",
            "Training and evaluating GRU model\n",
            "Epoch 1/10\n",
            "625/625 [==============================] - 21s 31ms/step - loss: 0.6930 - accuracy: 0.5071 - val_loss: 0.6927 - val_accuracy: 0.5472\n",
            "Epoch 2/10\n",
            "625/625 [==============================] - 17s 28ms/step - loss: 0.6917 - accuracy: 0.5673 - val_loss: 0.6900 - val_accuracy: 0.5836\n",
            "Epoch 3/10\n",
            "625/625 [==============================] - 19s 30ms/step - loss: 0.6844 - accuracy: 0.6086 - val_loss: 0.6763 - val_accuracy: 0.6192\n",
            "Epoch 4/10\n",
            "625/625 [==============================] - 18s 28ms/step - loss: 0.6544 - accuracy: 0.6535 - val_loss: 0.6281 - val_accuracy: 0.6808\n",
            "Epoch 5/10\n",
            "625/625 [==============================] - 17s 27ms/step - loss: 0.5666 - accuracy: 0.7303 - val_loss: 0.5093 - val_accuracy: 0.7672\n",
            "Epoch 6/10\n",
            "625/625 [==============================] - 18s 29ms/step - loss: 0.4653 - accuracy: 0.7919 - val_loss: 0.4611 - val_accuracy: 0.7906\n",
            "Epoch 7/10\n",
            "625/625 [==============================] - 17s 28ms/step - loss: 0.4213 - accuracy: 0.8211 - val_loss: 0.4354 - val_accuracy: 0.8058\n",
            "Epoch 8/10\n",
            "625/625 [==============================] - 18s 29ms/step - loss: 0.3909 - accuracy: 0.8366 - val_loss: 0.4180 - val_accuracy: 0.8182\n",
            "Epoch 9/10\n",
            "625/625 [==============================] - 18s 28ms/step - loss: 0.3675 - accuracy: 0.8500 - val_loss: 0.4066 - val_accuracy: 0.8190\n",
            "Epoch 10/10\n",
            "625/625 [==============================] - 18s 29ms/step - loss: 0.3492 - accuracy: 0.8597 - val_loss: 0.3986 - val_accuracy: 0.8254\n",
            "782/782 [==============================] - 7s 9ms/step - loss: 0.3912 - accuracy: 0.8313\n",
            "Test Loss (GRU): 0.391159325838089\n",
            "Test Accuracy (GRU): 0.8313199877738953\n",
            "Execution Time (GRU): 180.71045017242432 seconds\n",
            "\n"
          ]
        }
      ]
    },
    {
      "cell_type": "markdown",
      "source": [
        "Looks like GRU has the best performance, comapred to SimpleRnn and LSTM"
      ],
      "metadata": {
        "id": "P3QLftfexZnl"
      }
    },
    {
      "cell_type": "code",
      "source": [],
      "metadata": {
        "id": "AS8S8ZZ8xkJA"
      },
      "execution_count": null,
      "outputs": []
    }
  ]
}